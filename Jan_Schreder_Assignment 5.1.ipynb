{
 "cells": [
  {
   "cell_type": "markdown",
   "metadata": {},
   "source": [
    "### Will a Customer Accept the Coupon?\n",
    "\n",
    "**Context**\n",
    "\n",
    "Imagine driving through town and a coupon is delivered to your cell phone for a restaraunt near where you are driving. Would you accept that coupon and take a short detour to the restaraunt? Would you accept the coupon but use it on a sunbsequent trip? Would you ignore the coupon entirely? What if the coupon was for a bar instead of a restaraunt? What about a coffee house? Would you accept a bar coupon with a minor passenger in the car? What about if it was just you and your partner in the car? Would weather impact the rate of acceptance? What about the time of day?\n",
    "\n",
    "Obviously, proximity to the business is a factor on whether the coupon is delivered to the driver or not, but what are the factors that determine whether a driver accepts the coupon once it is delivered to them? How would you determine whether a driver is likely to accept a coupon?\n",
    "\n",
    "**Overview**\n",
    "\n",
    "The goal of this project is to use what you know about visualizations and probability distributions to distinguish between customers who accepted a driving coupon versus those that did not.\n",
    "\n",
    "**Data**\n",
    "\n",
    "This data comes to us from the UCI Machine Learning repository and was collected via a survey on Amazon Mechanical Turk. The survey describes different driving scenarios including the destination, current time, weather, passenger, etc., and then ask the person whether he will accept the coupon if he is the driver. Answers that the user will drive there ‘right away’ or ‘later before the coupon expires’ are labeled as ‘Y = 1’ and answers ‘no, I do not want the coupon’ are labeled as ‘Y = 0’.  There are five different types of coupons -- less expensive restaurants (under \\\\$20), coffee houses, carry out & take away, bar, and more expensive restaurants (\\\\$20 - \\\\$50). "
   ]
  },
  {
   "cell_type": "markdown",
   "metadata": {},
   "source": [
    "**Deliverables**\n",
    "\n",
    "Your final product should be a brief report that highlights the differences between customers who did and did not accept the coupons.  To explore the data you will utilize your knowledge of plotting, statistical summaries, and visualization using Python. You will publish your findings in a public facing github repository as your first portfolio piece. \n",
    "\n",
    "\n",
    "\n"
   ]
  },
  {
   "cell_type": "markdown",
   "metadata": {},
   "source": [
    "### Data Description\n",
    "Keep in mind that these values mentioned below are average values.\n",
    "\n",
    "The attributes of this data set include:\n",
    "1. User attributes\n",
    "    -  Gender: male, female\n",
    "    -  Age: below 21, 21 to 25, 26 to 30, etc.\n",
    "    -  Marital Status: single, married partner, unmarried partner, or widowed\n",
    "    -  Number of children: 0, 1, or more than 1\n",
    "    -  Education: high school, bachelors degree, associates degree, or graduate degree\n",
    "    -  Occupation: architecture & engineering, business & financial, etc.\n",
    "    -  Annual income: less than \\\\$12500, \\\\$12500 - \\\\$24999, \\\\$25000 - \\\\$37499, etc.\n",
    "    -  Number of times that he/she goes to a bar: 0, less than 1, 1 to 3, 4 to 8 or greater than 8\n",
    "    -  Number of times that he/she buys takeaway food: 0, less than 1, 1 to 3, 4 to 8 or greater\n",
    "    than 8\n",
    "    -  Number of times that he/she goes to a coffee house: 0, less than 1, 1 to 3, 4 to 8 or\n",
    "    greater than 8\n",
    "    -  Number of times that he/she eats at a restaurant with average expense less than \\\\$20 per\n",
    "    person: 0, less than 1, 1 to 3, 4 to 8 or greater than 8\n",
    "    -  Number of times that he/she goes to a bar: 0, less than 1, 1 to 3, 4 to 8 or greater than 8\n",
    "    \n",
    "\n",
    "2. Contextual attributes\n",
    "    - Driving destination: home, work, or no urgent destination\n",
    "    - Location of user, coupon and destination: we provide a map to show the geographical\n",
    "    location of the user, destination, and the venue, and we mark the distance between each\n",
    "    two places with time of driving. The user can see whether the venue is in the same\n",
    "    direction as the destination.\n",
    "    - Weather: sunny, rainy, or snowy\n",
    "    - Temperature: 30F, 55F, or 80F\n",
    "    - Time: 10AM, 2PM, or 6PM\n",
    "    - Passenger: alone, partner, kid(s), or friend(s)\n",
    "\n",
    "\n",
    "3. Coupon attributes\n",
    "    - time before it expires: 2 hours or one day"
   ]
  },
  {
   "cell_type": "code",
   "execution_count": null,
   "metadata": {},
   "outputs": [],
   "source": []
  },
  {
   "cell_type": "code",
   "execution_count": 43,
   "metadata": {},
   "outputs": [],
   "source": [
    "import matplotlib.pyplot as plt\n",
    "import seaborn as sns\n",
    "import pandas as pd\n",
    "import numpy as np"
   ]
  },
  {
   "cell_type": "markdown",
   "metadata": {},
   "source": [
    "### Problems\n",
    "\n",
    "Use the prompts below to get started with your data analysis.  \n",
    "\n",
    "1. Read in the `coupons.csv` file.\n",
    "\n",
    "\n"
   ]
  },
  {
   "cell_type": "code",
   "execution_count": 44,
   "metadata": {},
   "outputs": [],
   "source": [
    "data = pd.read_csv('data/coupons.csv')"
   ]
  },
  {
   "cell_type": "code",
   "execution_count": 45,
   "metadata": {},
   "outputs": [
    {
     "data": {
      "text/html": [
       "<div>\n",
       "<style scoped>\n",
       "    .dataframe tbody tr th:only-of-type {\n",
       "        vertical-align: middle;\n",
       "    }\n",
       "\n",
       "    .dataframe tbody tr th {\n",
       "        vertical-align: top;\n",
       "    }\n",
       "\n",
       "    .dataframe thead th {\n",
       "        text-align: right;\n",
       "    }\n",
       "</style>\n",
       "<table border=\"1\" class=\"dataframe\">\n",
       "  <thead>\n",
       "    <tr style=\"text-align: right;\">\n",
       "      <th></th>\n",
       "      <th>destination</th>\n",
       "      <th>passanger</th>\n",
       "      <th>weather</th>\n",
       "      <th>temperature</th>\n",
       "      <th>time</th>\n",
       "      <th>coupon</th>\n",
       "      <th>expiration</th>\n",
       "      <th>gender</th>\n",
       "      <th>age</th>\n",
       "      <th>maritalStatus</th>\n",
       "      <th>...</th>\n",
       "      <th>CoffeeHouse</th>\n",
       "      <th>CarryAway</th>\n",
       "      <th>RestaurantLessThan20</th>\n",
       "      <th>Restaurant20To50</th>\n",
       "      <th>toCoupon_GEQ5min</th>\n",
       "      <th>toCoupon_GEQ15min</th>\n",
       "      <th>toCoupon_GEQ25min</th>\n",
       "      <th>direction_same</th>\n",
       "      <th>direction_opp</th>\n",
       "      <th>Y</th>\n",
       "    </tr>\n",
       "  </thead>\n",
       "  <tbody>\n",
       "    <tr>\n",
       "      <th>0</th>\n",
       "      <td>No Urgent Place</td>\n",
       "      <td>Alone</td>\n",
       "      <td>Sunny</td>\n",
       "      <td>55</td>\n",
       "      <td>2PM</td>\n",
       "      <td>Restaurant(&lt;20)</td>\n",
       "      <td>1d</td>\n",
       "      <td>Female</td>\n",
       "      <td>21</td>\n",
       "      <td>Unmarried partner</td>\n",
       "      <td>...</td>\n",
       "      <td>never</td>\n",
       "      <td>NaN</td>\n",
       "      <td>4~8</td>\n",
       "      <td>1~3</td>\n",
       "      <td>1</td>\n",
       "      <td>0</td>\n",
       "      <td>0</td>\n",
       "      <td>0</td>\n",
       "      <td>1</td>\n",
       "      <td>1</td>\n",
       "    </tr>\n",
       "    <tr>\n",
       "      <th>1</th>\n",
       "      <td>No Urgent Place</td>\n",
       "      <td>Friend(s)</td>\n",
       "      <td>Sunny</td>\n",
       "      <td>80</td>\n",
       "      <td>10AM</td>\n",
       "      <td>Coffee House</td>\n",
       "      <td>2h</td>\n",
       "      <td>Female</td>\n",
       "      <td>21</td>\n",
       "      <td>Unmarried partner</td>\n",
       "      <td>...</td>\n",
       "      <td>never</td>\n",
       "      <td>NaN</td>\n",
       "      <td>4~8</td>\n",
       "      <td>1~3</td>\n",
       "      <td>1</td>\n",
       "      <td>0</td>\n",
       "      <td>0</td>\n",
       "      <td>0</td>\n",
       "      <td>1</td>\n",
       "      <td>0</td>\n",
       "    </tr>\n",
       "    <tr>\n",
       "      <th>2</th>\n",
       "      <td>No Urgent Place</td>\n",
       "      <td>Friend(s)</td>\n",
       "      <td>Sunny</td>\n",
       "      <td>80</td>\n",
       "      <td>10AM</td>\n",
       "      <td>Carry out &amp; Take away</td>\n",
       "      <td>2h</td>\n",
       "      <td>Female</td>\n",
       "      <td>21</td>\n",
       "      <td>Unmarried partner</td>\n",
       "      <td>...</td>\n",
       "      <td>never</td>\n",
       "      <td>NaN</td>\n",
       "      <td>4~8</td>\n",
       "      <td>1~3</td>\n",
       "      <td>1</td>\n",
       "      <td>1</td>\n",
       "      <td>0</td>\n",
       "      <td>0</td>\n",
       "      <td>1</td>\n",
       "      <td>1</td>\n",
       "    </tr>\n",
       "    <tr>\n",
       "      <th>3</th>\n",
       "      <td>No Urgent Place</td>\n",
       "      <td>Friend(s)</td>\n",
       "      <td>Sunny</td>\n",
       "      <td>80</td>\n",
       "      <td>2PM</td>\n",
       "      <td>Coffee House</td>\n",
       "      <td>2h</td>\n",
       "      <td>Female</td>\n",
       "      <td>21</td>\n",
       "      <td>Unmarried partner</td>\n",
       "      <td>...</td>\n",
       "      <td>never</td>\n",
       "      <td>NaN</td>\n",
       "      <td>4~8</td>\n",
       "      <td>1~3</td>\n",
       "      <td>1</td>\n",
       "      <td>1</td>\n",
       "      <td>0</td>\n",
       "      <td>0</td>\n",
       "      <td>1</td>\n",
       "      <td>0</td>\n",
       "    </tr>\n",
       "    <tr>\n",
       "      <th>4</th>\n",
       "      <td>No Urgent Place</td>\n",
       "      <td>Friend(s)</td>\n",
       "      <td>Sunny</td>\n",
       "      <td>80</td>\n",
       "      <td>2PM</td>\n",
       "      <td>Coffee House</td>\n",
       "      <td>1d</td>\n",
       "      <td>Female</td>\n",
       "      <td>21</td>\n",
       "      <td>Unmarried partner</td>\n",
       "      <td>...</td>\n",
       "      <td>never</td>\n",
       "      <td>NaN</td>\n",
       "      <td>4~8</td>\n",
       "      <td>1~3</td>\n",
       "      <td>1</td>\n",
       "      <td>1</td>\n",
       "      <td>0</td>\n",
       "      <td>0</td>\n",
       "      <td>1</td>\n",
       "      <td>0</td>\n",
       "    </tr>\n",
       "  </tbody>\n",
       "</table>\n",
       "<p>5 rows × 26 columns</p>\n",
       "</div>"
      ],
      "text/plain": [
       "       destination  passanger weather  temperature  time  \\\n",
       "0  No Urgent Place      Alone   Sunny           55   2PM   \n",
       "1  No Urgent Place  Friend(s)   Sunny           80  10AM   \n",
       "2  No Urgent Place  Friend(s)   Sunny           80  10AM   \n",
       "3  No Urgent Place  Friend(s)   Sunny           80   2PM   \n",
       "4  No Urgent Place  Friend(s)   Sunny           80   2PM   \n",
       "\n",
       "                  coupon expiration  gender age      maritalStatus  ...  \\\n",
       "0        Restaurant(<20)         1d  Female  21  Unmarried partner  ...   \n",
       "1           Coffee House         2h  Female  21  Unmarried partner  ...   \n",
       "2  Carry out & Take away         2h  Female  21  Unmarried partner  ...   \n",
       "3           Coffee House         2h  Female  21  Unmarried partner  ...   \n",
       "4           Coffee House         1d  Female  21  Unmarried partner  ...   \n",
       "\n",
       "   CoffeeHouse CarryAway RestaurantLessThan20 Restaurant20To50  \\\n",
       "0        never       NaN                  4~8              1~3   \n",
       "1        never       NaN                  4~8              1~3   \n",
       "2        never       NaN                  4~8              1~3   \n",
       "3        never       NaN                  4~8              1~3   \n",
       "4        never       NaN                  4~8              1~3   \n",
       "\n",
       "  toCoupon_GEQ5min toCoupon_GEQ15min toCoupon_GEQ25min direction_same  \\\n",
       "0                1                 0                 0              0   \n",
       "1                1                 0                 0              0   \n",
       "2                1                 1                 0              0   \n",
       "3                1                 1                 0              0   \n",
       "4                1                 1                 0              0   \n",
       "\n",
       "  direction_opp  Y  \n",
       "0             1  1  \n",
       "1             1  0  \n",
       "2             1  1  \n",
       "3             1  0  \n",
       "4             1  0  \n",
       "\n",
       "[5 rows x 26 columns]"
      ]
     },
     "execution_count": 45,
     "metadata": {},
     "output_type": "execute_result"
    }
   ],
   "source": [
    "data.head()"
   ]
  },
  {
   "cell_type": "code",
   "execution_count": 46,
   "metadata": {},
   "outputs": [
    {
     "name": "stdout",
     "output_type": "stream",
     "text": [
      "<class 'pandas.core.frame.DataFrame'>\n",
      "RangeIndex: 12684 entries, 0 to 12683\n",
      "Data columns (total 26 columns):\n",
      " #   Column                Non-Null Count  Dtype \n",
      "---  ------                --------------  ----- \n",
      " 0   destination           12684 non-null  object\n",
      " 1   passanger             12684 non-null  object\n",
      " 2   weather               12684 non-null  object\n",
      " 3   temperature           12684 non-null  int64 \n",
      " 4   time                  12684 non-null  object\n",
      " 5   coupon                12684 non-null  object\n",
      " 6   expiration            12684 non-null  object\n",
      " 7   gender                12684 non-null  object\n",
      " 8   age                   12684 non-null  object\n",
      " 9   maritalStatus         12684 non-null  object\n",
      " 10  has_children          12684 non-null  int64 \n",
      " 11  education             12684 non-null  object\n",
      " 12  occupation            12684 non-null  object\n",
      " 13  income                12684 non-null  object\n",
      " 14  car                   108 non-null    object\n",
      " 15  Bar                   12577 non-null  object\n",
      " 16  CoffeeHouse           12467 non-null  object\n",
      " 17  CarryAway             12533 non-null  object\n",
      " 18  RestaurantLessThan20  12554 non-null  object\n",
      " 19  Restaurant20To50      12495 non-null  object\n",
      " 20  toCoupon_GEQ5min      12684 non-null  int64 \n",
      " 21  toCoupon_GEQ15min     12684 non-null  int64 \n",
      " 22  toCoupon_GEQ25min     12684 non-null  int64 \n",
      " 23  direction_same        12684 non-null  int64 \n",
      " 24  direction_opp         12684 non-null  int64 \n",
      " 25  Y                     12684 non-null  int64 \n",
      "dtypes: int64(8), object(18)\n",
      "memory usage: 2.5+ MB\n"
     ]
    }
   ],
   "source": [
    "data.info()"
   ]
  },
  {
   "cell_type": "markdown",
   "metadata": {},
   "source": [
    "2. Investigate the dataset for missing or problematic data."
   ]
  },
  {
   "cell_type": "markdown",
   "metadata": {},
   "source": [
    "Answer question 2: First step is to find out which rows have missing information. To make a statistical evaluation there need to be enough data available. In data.info() it shows that multiple columns are missing data.\n",
    "1. Car has most of the values missing\n",
    "\n",
    "2. Bar/ CoffeeHouse/ CarryAway/ RestauranLessThan20/ Restaurant20To50 have only a few missing rows compared to the whole dataset\n"
   ]
  },
  {
   "cell_type": "markdown",
   "metadata": {},
   "source": [
    "3. Decide what to do about your missing data -- drop, replace, other..."
   ]
  },
  {
   "cell_type": "markdown",
   "metadata": {},
   "source": [
    "1. Column \"cars\" has only 108 entriers compared to the of 12k entries in the other columns. That means the information from \"cars\" are not suitable to make a good analysis and will not be considered\n",
    "2. Bar/ CoffeeHouse/ CarryAway/ RestauranLessThan20/ Restaurant20To50: Decision to not drop those rows was made due to the other values in those rows can still be considered for analysis. In case the information in those columns will be needed later during the analysis the dataframe will be modified accordingly and dropping the rows without values"
   ]
  },
  {
   "cell_type": "code",
   "execution_count": 47,
   "metadata": {},
   "outputs": [],
   "source": [
    "#Drop the car column\n",
    "data = data.drop(columns=['car'])"
   ]
  },
  {
   "cell_type": "markdown",
   "metadata": {},
   "source": [
    "4. What proportion of the total observations chose to accept the coupon? \n",
    "\n"
   ]
  },
  {
   "cell_type": "code",
   "execution_count": 48,
   "metadata": {},
   "outputs": [
    {
     "name": "stdout",
     "output_type": "stream",
     "text": [
      "Answer to question 4: Acceptance rate bar coupons: 56.84%\n"
     ]
    }
   ],
   "source": [
    "#Caclulate the proportion of the total observation who accepted the coupon\n",
    "coupon_acceptance = data['Y'].mean()\n",
    "print(f\"Answer to question 4: Acceptance rate bar coupons: {coupon_acceptance:.2%}\")"
   ]
  },
  {
   "cell_type": "markdown",
   "metadata": {},
   "source": [
    "Answer to question 4: 56.84% of the people accepted the coupon"
   ]
  },
  {
   "cell_type": "markdown",
   "metadata": {},
   "source": [
    "5. Use a bar plot to visualize the `coupon` column."
   ]
  },
  {
   "cell_type": "code",
   "execution_count": 49,
   "metadata": {},
   "outputs": [
    {
     "name": "stderr",
     "output_type": "stream",
     "text": [
      "/var/folders/52/wgy101692yx5jvhv1dh1wc500000gn/T/ipykernel_22369/890528287.py:1: FutureWarning: \n",
      "\n",
      "Passing `palette` without assigning `hue` is deprecated and will be removed in v0.14.0. Assign the `x` variable to `hue` and set `legend=False` for the same effect.\n",
      "\n",
      "  sns.barplot(x=data['Y'].value_counts().index, y=data['Y'].value_counts().values, palette='Set2')\n"
     ]
    },
    {
     "data": {
      "text/plain": [
       "Text(0.5, 1.0, ' People who took the coupon')"
      ]
     },
     "execution_count": 49,
     "metadata": {},
     "output_type": "execute_result"
    },
    {
     "data": {
      "image/png": "[encoded data removed]",
      "text/plain": [
       "<Figure size 640x480 with 1 Axes>"
      ]
     },
     "metadata": {},
     "output_type": "display_data"
    }
   ],
   "source": [
    "sns.barplot(x=data['Y'].value_counts().index, y=data['Y'].value_counts().values, palette='Set2')\n",
    "plt.xlabel('Took the coupon (0 = No, 1 = Yes)')\n",
    "plt.ylabel('Count')\n",
    "plt.title(' People who took the coupon')"
   ]
  },
  {
   "cell_type": "markdown",
   "metadata": {},
   "source": [
    "6. Use a histogram to visualize the temperature column."
   ]
  },
  {
   "cell_type": "code",
   "execution_count": 50,
   "metadata": {},
   "outputs": [
    {
     "data": {
      "text/plain": [
       "Text(0.5, 1.0, 'Temperature histogram')"
      ]
     },
     "execution_count": 50,
     "metadata": {},
     "output_type": "execute_result"
    },
    {
     "data": {
      "image/png": "[encoded data removed]",
      "text/plain": [
       "<Figure size 640x480 with 1 Axes>"
      ]
     },
     "metadata": {},
     "output_type": "display_data"
    }
   ],
   "source": [
    "sns.histplot(x=data['temperature'])\n",
    "plt.xlabel('Temperature')\n",
    "plt.ylabel('Count')\n",
    "plt.title('Temperature histogram')"
   ]
  },
  {
   "cell_type": "markdown",
   "metadata": {},
   "source": [
    "**Investigating the Bar Coupons**\n",
    "\n",
    "Now, we will lead you through an exploration of just the bar related coupons.  \n",
    "\n",
    "1. Create a new `DataFrame` that contains just the bar coupons.\n"
   ]
  },
  {
   "cell_type": "code",
   "execution_count": 51,
   "metadata": {},
   "outputs": [
    {
     "name": "stdout",
     "output_type": "stream",
     "text": [
      "<class 'pandas.core.frame.DataFrame'>\n",
      "RangeIndex: 12684 entries, 0 to 12683\n",
      "Data columns (total 25 columns):\n",
      " #   Column                Non-Null Count  Dtype \n",
      "---  ------                --------------  ----- \n",
      " 0   destination           12684 non-null  object\n",
      " 1   passanger             12684 non-null  object\n",
      " 2   weather               12684 non-null  object\n",
      " 3   temperature           12684 non-null  int64 \n",
      " 4   time                  12684 non-null  object\n",
      " 5   coupon                12684 non-null  object\n",
      " 6   expiration            12684 non-null  object\n",
      " 7   gender                12684 non-null  object\n",
      " 8   age                   12684 non-null  object\n",
      " 9   maritalStatus         12684 non-null  object\n",
      " 10  has_children          12684 non-null  int64 \n",
      " 11  education             12684 non-null  object\n",
      " 12  occupation            12684 non-null  object\n",
      " 13  income                12684 non-null  object\n",
      " 14  Bar                   12577 non-null  object\n",
      " 15  CoffeeHouse           12467 non-null  object\n",
      " 16  CarryAway             12533 non-null  object\n",
      " 17  RestaurantLessThan20  12554 non-null  object\n",
      " 18  Restaurant20To50      12495 non-null  object\n",
      " 19  toCoupon_GEQ5min      12684 non-null  int64 \n",
      " 20  toCoupon_GEQ15min     12684 non-null  int64 \n",
      " 21  toCoupon_GEQ25min     12684 non-null  int64 \n",
      " 22  direction_same        12684 non-null  int64 \n",
      " 23  direction_opp         12684 non-null  int64 \n",
      " 24  Y                     12684 non-null  int64 \n",
      "dtypes: int64(8), object(17)\n",
      "memory usage: 2.4+ MB\n"
     ]
    }
   ],
   "source": [
    "data.info()\n"
   ]
  },
  {
   "cell_type": "markdown",
   "metadata": {},
   "source": [
    "The new DataFrame is filtering the column \"coupon\" with the value \"Bar\". That removes the Coupons from all other Restaurants from the data frame. "
   ]
  },
  {
   "cell_type": "code",
   "execution_count": 52,
   "metadata": {},
   "outputs": [],
   "source": [
    "#Create the data frame that only contains the Bar data and a data frame if the Bar coupon was also choosen\n",
    "bardata_all = data[(data['coupon'] == 'Bar')].dropna(subset=['Bar'])\n",
    "bardata = bardata_all[bardata_all['Y'] == 1]\n"
   ]
  },
  {
   "cell_type": "code",
   "execution_count": 53,
   "metadata": {},
   "outputs": [
    {
     "name": "stdout",
     "output_type": "stream",
     "text": [
      "<class 'pandas.core.frame.DataFrame'>\n",
      "Index: 819 entries, 13 to 12652\n",
      "Data columns (total 25 columns):\n",
      " #   Column                Non-Null Count  Dtype \n",
      "---  ------                --------------  ----- \n",
      " 0   destination           819 non-null    object\n",
      " 1   passanger             819 non-null    object\n",
      " 2   weather               819 non-null    object\n",
      " 3   temperature           819 non-null    int64 \n",
      " 4   time                  819 non-null    object\n",
      " 5   coupon                819 non-null    object\n",
      " 6   expiration            819 non-null    object\n",
      " 7   gender                819 non-null    object\n",
      " 8   age                   819 non-null    object\n",
      " 9   maritalStatus         819 non-null    object\n",
      " 10  has_children          819 non-null    int64 \n",
      " 11  education             819 non-null    object\n",
      " 12  occupation            819 non-null    object\n",
      " 13  income                819 non-null    object\n",
      " 14  Bar                   819 non-null    object\n",
      " 15  CoffeeHouse           811 non-null    object\n",
      " 16  CarryAway             808 non-null    object\n",
      " 17  RestaurantLessThan20  812 non-null    object\n",
      " 18  Restaurant20To50      812 non-null    object\n",
      " 19  toCoupon_GEQ5min      819 non-null    int64 \n",
      " 20  toCoupon_GEQ15min     819 non-null    int64 \n",
      " 21  toCoupon_GEQ25min     819 non-null    int64 \n",
      " 22  direction_same        819 non-null    int64 \n",
      " 23  direction_opp         819 non-null    int64 \n",
      " 24  Y                     819 non-null    int64 \n",
      "dtypes: int64(8), object(17)\n",
      "memory usage: 166.4+ KB\n"
     ]
    }
   ],
   "source": [
    "bardata.info()"
   ]
  },
  {
   "cell_type": "markdown",
   "metadata": {},
   "source": [
    "2. What proportion of bar coupons were accepted?\n"
   ]
  },
  {
   "cell_type": "code",
   "execution_count": 54,
   "metadata": {},
   "outputs": [
    {
     "name": "stdout",
     "output_type": "stream",
     "text": [
      "Answer to question 2: Acceptance rate bar coupons: 41.03%\n"
     ]
    }
   ],
   "source": [
    "#Acceptance rate bar coupons\n",
    "coupons_accepted = bardata_all['Y'].mean()\n",
    "print(f\"Answer to question 2: Acceptance rate bar coupons: {coupons_accepted:.2%}\")"
   ]
  },
  {
   "cell_type": "markdown",
   "metadata": {},
   "source": [
    "3. Compare the acceptance rate between those who went to a bar 3 or fewer times a month to those who went more.\n"
   ]
  },
  {
   "cell_type": "code",
   "execution_count": 55,
   "metadata": {},
   "outputs": [
    {
     "name": "stdout",
     "output_type": "stream",
     "text": [
      "['never' 'less1' '1~3' 'gt8' '4~8']\n"
     ]
    }
   ],
   "source": [
    "#Investigate which values contain the Bar column\n",
    "unique_values = bardata['Bar'].unique()\n",
    "print(unique_values)"
   ]
  },
  {
   "cell_type": "code",
   "execution_count": 56,
   "metadata": {},
   "outputs": [
    {
     "name": "stdout",
     "output_type": "stream",
     "text": [
      "Answer to question 3: Acceptance rate of those who went to the Bar more than 3 times per month: 76.88%\n"
     ]
    }
   ],
   "source": [
    "#Total amount of people who go to the Bar more than 3 times\n",
    "bar_more_than_three = bardata_all[bardata_all['Bar'].isin(['4~8', 'gt8'])]\n",
    "#Total amount of people who go to the Bar more than 3 times and accepted the coupon\n",
    "accepted_bar_more_than_three = bar_more_than_three['Y'].mean()\n",
    "print(f\"Answer to question 3: Acceptance rate of those who went to the Bar more than 3 times per month: {accepted_bar_more_than_three:.2%}\")"
   ]
  },
  {
   "cell_type": "code",
   "execution_count": 57,
   "metadata": {},
   "outputs": [
    {
     "name": "stdout",
     "output_type": "stream",
     "text": [
      "Answer to question 3: Acceptance rate of those who went to the Bar 3 times or fewer per month: 37.06%\n"
     ]
    }
   ],
   "source": [
    "#Total amount of people who go to the Bar 3 times or fewer\n",
    "bar_three_fewer = bardata_all[bardata_all['Bar'].isin(['never', 'less1', '1~3'])]\n",
    "accepted_bar_more_three_fewer = bar_three_fewer['Y'].mean()\n",
    "print(f\"Answer to question 3: Acceptance rate of those who went to the Bar 3 times or fewer per month: {accepted_bar_more_three_fewer:.2%}\")"
   ]
  },
  {
   "cell_type": "markdown",
   "metadata": {},
   "source": [
    "Analysis question 3: Drivers who go more than 3 times in the Bar per months are more likley to accept the coupon than people who go 3 times or less"
   ]
  },
  {
   "cell_type": "markdown",
   "metadata": {},
   "source": [
    "4. Compare the acceptance rate between drivers who go to a bar more than once a month and are over the age of 25 to the all others.  Is there a difference?\n"
   ]
  },
  {
   "cell_type": "code",
   "execution_count": 58,
   "metadata": {},
   "outputs": [
    {
     "name": "stdout",
     "output_type": "stream",
     "text": [
      "['21' '46' '26' '31' '41' '50plus' '36' 'below21']\n"
     ]
    }
   ],
   "source": [
    "#Investigate the values in the age column\n",
    "unique_values_age = bardata_all['age'].unique()\n",
    "print(unique_values_age)"
   ]
  },
  {
   "cell_type": "code",
   "execution_count": 59,
   "metadata": {},
   "outputs": [
    {
     "name": "stdout",
     "output_type": "stream",
     "text": [
      "Answer to question 4: Acceptance rate of those who go to the Bar more than once a month and are over 25 is: 69.52%\n",
      "Answer to question 4: Acceptance rate of all the others is: 33.44%\n"
     ]
    }
   ],
   "source": [
    "#Total amount of drivers who go to the Bar more than once a month and are over 25\n",
    "bar_more_than_once_over_25 = bardata_all[bardata_all['Bar'].isin(['1~3', '4~8', 'gt8']) & (bardata_all['age'].isin(['46','26','31','41','50plus','36']))]\n",
    "#Total amount of drivers who go to the Bar more than once a month and are over 25 and accepted the coupon\n",
    "accepted_bar_more_than_once_over_25 = bar_more_than_once_over_25['Y'].mean()\n",
    "print(f\"Answer to question 4: Acceptance rate of those who go to the Bar more than once a month and are over 25 is: {accepted_bar_more_than_once_over_25:.2%}\")\n",
    "#All the otheres\n",
    "bar_all_the_others = bardata_all[~(bardata_all['Bar'].isin(['1~3', '4~8', 'gt8']) & (bardata_all['age'].isin(['46','26','31','41','50plus','36'])))]\n",
    "#Acceptance rate of all the others\n",
    "accepted_bar_all_the_others = bar_all_the_others['Y'].mean()\n",
    "print(f\"Answer to question 4: Acceptance rate of all the others is: {accepted_bar_all_the_others:.2%}\")"
   ]
  },
  {
   "cell_type": "markdown",
   "metadata": {},
   "source": [
    "Analysis question 4: Drivers who go to the Bar more than once a month and are over 25 are more likley to accept the coupon than all the others"
   ]
  },
  {
   "cell_type": "markdown",
   "metadata": {},
   "source": [
    "5. Use the same process to compare the acceptance rate between drivers who go to bars more than once a month and had passengers that were not a kid and had occupations other than farming, fishing, or forestry. \n"
   ]
  },
  {
   "cell_type": "markdown",
   "metadata": {},
   "source": [
    "There are 2 ways how to interpreate the assignment. Here both solutions are presented\n",
    "1. Acceptance rate between drivers who go to bars more than once a month and had passengers that were not a kid and had occupations other than farming, fishing, or forestry vs all the others\n",
    "2. Acceptance rate between \"drivers who go to bars more than once a month and had passengers that were not a kid\" and \"drivers who go to bars more than once a month that had occupations other than farming, fishing, or forestry\""
   ]
  },
  {
   "cell_type": "code",
   "execution_count": 60,
   "metadata": {},
   "outputs": [
    {
     "name": "stdout",
     "output_type": "stream",
     "text": [
      "Unique value passangers: ['Kid(s)' 'Alone' 'Friend(s)' 'Partner']\n",
      "Unique value occupation: ['Unemployed' 'Architecture & Engineering' 'Student'\n",
      " 'Education&Training&Library' 'Healthcare Support'\n",
      " 'Healthcare Practitioners & Technical' 'Sales & Related' 'Management'\n",
      " 'Arts Design Entertainment Sports & Media' 'Computer & Mathematical'\n",
      " 'Life Physical Social Science' 'Personal Care & Service'\n",
      " 'Community & Social Services' 'Office & Administrative Support'\n",
      " 'Construction & Extraction' 'Legal' 'Retired'\n",
      " 'Installation Maintenance & Repair' 'Transportation & Material Moving'\n",
      " 'Business & Financial' 'Protective Service'\n",
      " 'Food Preparation & Serving Related' 'Production Occupations'\n",
      " 'Building & Grounds Cleaning & Maintenance' 'Farming Fishing & Forestry']\n"
     ]
    }
   ],
   "source": [
    "#Analyse the data in the column passanger and occupation\n",
    "unique_values_passanger = bardata_all['passanger'].unique()\n",
    "print(f\"Unique value passangers: {unique_values_passanger}\")\n",
    "unique_values_occupation = bardata_all['occupation'].unique()\n",
    "print(f\"Unique value occupation: {unique_values_occupation}\")"
   ]
  },
  {
   "cell_type": "markdown",
   "metadata": {},
   "source": [
    "Solution 1"
   ]
  },
  {
   "cell_type": "code",
   "execution_count": 61,
   "metadata": {},
   "outputs": [
    {
     "name": "stdout",
     "output_type": "stream",
     "text": [
      "Answer to question 5, Solution 1: Acceptance rate of drivers who go to bars more than once a month and had passengers that were not a kid and had occupations other than farming, fishing, or forestry: 71.32%\n"
     ]
    }
   ],
   "source": [
    "#Total amount of drivers who go to the Bar more than once a month and had passengers that were not a kid and had occupations other than farming, fishing, or forestry \n",
    "bar_more_than_once_not_kid_occupation_not_fa_fi_fo = bardata_all[bardata_all['Bar'].isin(['1~3', '4~8', 'gt8']) & ~(bardata_all['passanger'].isin(['Kid(s)'])) & ~(bardata_all['occupation'].isin(['Farming Fishing & Forestry']))]\n",
    "#Acceptance rate of drivers who go to the Bar more than once a month and had passengers that were not a kid and had occupations other than farming, fishing, or forestry \n",
    "acceptance_bar_more_than_once_not_kid_occupation_not_fa_fi_fo = bar_more_than_once_not_kid_occupation_not_fa_fi_fo['Y'].mean()\n",
    "print(f\"Answer to question 5, Solution 1: Acceptance rate of drivers who go to bars more than once a month and had passengers that were not a kid and had occupations other than farming, fishing, or forestry: {acceptance_bar_more_than_once_not_kid_occupation_not_fa_fi_fo:.2%}\")"
   ]
  },
  {
   "cell_type": "code",
   "execution_count": 62,
   "metadata": {},
   "outputs": [
    {
     "name": "stdout",
     "output_type": "stream",
     "text": [
      "Answer to question 5, Solution 1: Acceptance rate of all others: 29.48%\n"
     ]
    }
   ],
   "source": [
    "#Total amount of all the others\n",
    "bar_more_than_once_not_kid_occupation_not_fa_fi_fo_all_others = bardata_all[~(bardata_all['Bar'].isin(['1~3', '4~8', 'gt8']) & ~(bardata_all['passanger'].isin(['Kid(s)'])) & ~(bardata_all['occupation'].isin(['Farming Fishing & Forestry'])))]\n",
    "#Acceptance rate of all the others\n",
    "acceptance_bar_more_than_once_not_kid_occupation_not_fa_fi_fo_all_others = bar_more_than_once_not_kid_occupation_not_fa_fi_fo_all_others['Y'].mean()\n",
    "print(f\"Answer to question 5, Solution 1: Acceptance rate of all others: {acceptance_bar_more_than_once_not_kid_occupation_not_fa_fi_fo_all_others:.2%}\")"
   ]
  },
  {
   "cell_type": "markdown",
   "metadata": {},
   "source": [
    "Analysis to question 5, Solution 1: Drivers who go to the bars more than once a month and had passengers that were not a kid and had other occupations than farming, fishing, or forestry are more likley to accept the coupon than the others"
   ]
  },
  {
   "cell_type": "markdown",
   "metadata": {},
   "source": [
    "Solution 2"
   ]
  },
  {
   "cell_type": "code",
   "execution_count": 63,
   "metadata": {},
   "outputs": [
    {
     "name": "stdout",
     "output_type": "stream",
     "text": [
      "Answer to question 5, Solution 2: Acceptance rate of drivers who go to bars more than once a month and had passengers that were not a kid: 71.32%\n"
     ]
    }
   ],
   "source": [
    "#Total amount of drivers who go to the Bar more than once a month and had passengers that were not a kid\n",
    "bar_more_than_once_not_kid = bardata_all[bardata_all['Bar'].isin(['1~3', '4~8', 'gt8']) & ~(bardata_all['passanger'].isin(['Kid(s)']))]\n",
    "#Acceptance rate of drivers who go to the Bar more than once a month and had passengers that were not a kid\n",
    "acceptance_bar_more_than_once_not_kid = bar_more_than_once_not_kid['Y'].mean()\n",
    "print(f\"Answer to question 5, Solution 2: Acceptance rate of drivers who go to bars more than once a month and had passengers that were not a kid: {acceptance_bar_more_than_once_not_kid:.2%}\")"
   ]
  },
  {
   "cell_type": "code",
   "execution_count": 64,
   "metadata": {},
   "outputs": [
    {
     "name": "stdout",
     "output_type": "stream",
     "text": [
      "Answer to question 5, Solution 2: Acceptance rate of drivers who go to bars more than once a month and had occupations other than farming, fishing, or forestry: 68.79%\n"
     ]
    }
   ],
   "source": [
    "#Total amount of drivers who go to the Bar more than once a month and had occupations other than farming, fishing, or forestry \n",
    "bar_more_than_once_occupation_not_fa_fi_fo = bardata_all[bardata_all['Bar'].isin(['1~3', '4~8', 'gt8']) & ~(bardata_all['occupation'].isin(['Farming Fishing & Forestry']))]\n",
    "#Acceptance rate of drivers who go to the Bar more than once a month and had occupations other than farming, fishing, or forestry \n",
    "acceptance_bar_more_than_once_occupation_not_fa_fi_fo = bar_more_than_once_occupation_not_fa_fi_fo['Y'].mean()\n",
    "print(f\"Answer to question 5, Solution 2: Acceptance rate of drivers who go to bars more than once a month and had occupations other than farming, fishing, or forestry: {acceptance_bar_more_than_once_occupation_not_fa_fi_fo:.2%}\")"
   ]
  },
  {
   "cell_type": "markdown",
   "metadata": {},
   "source": [
    "Analysis to question 5, Solution 2: Drivers who go to the bar more than once a month and have no kid as passangers are a bit more likley to accept the coupon than drivers who go to the bar more than once a month and have other occupation than farming, fishing, forestry"
   ]
  },
  {
   "cell_type": "markdown",
   "metadata": {},
   "source": [
    "Answer: The acceptance rate of drivers who go to bars more than once a month and had passengers that were not a kid and had occupations other than farming, fishing, or forestry is around 48%"
   ]
  },
  {
   "cell_type": "markdown",
   "metadata": {},
   "source": [
    "6. Compare the acceptance rates between those drivers who:\n",
    "\n",
    "- go to bars more than once a month, had passengers that were not a kid, and were not widowed *OR*\n",
    "- go to bars more than once a month and are under the age of 30 *OR*\n",
    "- go to cheap restaurants more than 4 times a month and income is less than 50K. \n",
    "\n"
   ]
  },
  {
   "cell_type": "code",
   "execution_count": 65,
   "metadata": {},
   "outputs": [
    {
     "name": "stdout",
     "output_type": "stream",
     "text": [
      "Unique value Martial Status: ['Unmarried partner' 'Single' 'Married partner' 'Divorced' 'Widowed']\n",
      "Unique value ages: ['21' '46' '26' '31' '50plus' '41' '36' 'below21']\n",
      "Unique value restaurant_less_than_20: ['4~8' '1~3' 'less1' 'gt8' 'never' nan]\n",
      "Unique value income: ['$37500 - $49999' '$62500 - $74999' '$75000 - $87499' '$12500 - $24999'\n",
      " '$50000 - $62499' '$25000 - $37499' '$100000 or More' '$87500 - $99999'\n",
      " 'Less than $12500']\n"
     ]
    }
   ],
   "source": [
    "unique_values_martial_status = bardata['maritalStatus'].unique()\n",
    "print(f\"Unique value Martial Status: {unique_values_martial_status}\")\n",
    "unique_values_age = bardata['age'].unique()\n",
    "print(f\"Unique value ages: {unique_values_age}\")\n",
    "unique_values_restaurant_less_than_20 = bardata['RestaurantLessThan20'].unique()\n",
    "print(f\"Unique value restaurant_less_than_20: {unique_values_restaurant_less_than_20}\")\n",
    "unique_values_income = bardata['income'].unique()\n",
    "print(f\"Unique value income: {unique_values_income}\")\n"
   ]
  },
  {
   "cell_type": "code",
   "execution_count": 66,
   "metadata": {},
   "outputs": [
    {
     "name": "stdout",
     "output_type": "stream",
     "text": [
      "Answer to question 6: Acceptance rate of drivers who go to bars more than once a month and had passangers that were not a kid and were not widowed : 71.32%\n"
     ]
    }
   ],
   "source": [
    "#Total amount of drivers who go to the Bar more than once a month, had passangers that were not a kid and were not widowed \n",
    "bar_more_than_once_not_kid_not_widowed = bardata_all[bardata_all['Bar'].isin(['1~3', '4~8', 'gt8']) & (bardata_all['passanger'] != 'Kid(s)') & (bardata_all['maritalStatus'] != 'Widowed')]\n",
    "#Acceptance rate total amount of drivers who go to the Bar more than once a month, had passangers that were not a kid and were not widowed\n",
    "acceptance_bar_more_than_once_not_kid_not_widowed = bar_more_than_once_not_kid_not_widowed['Y'].mean()\n",
    "print(f\"Answer to question 6: Acceptance rate of drivers who go to bars more than once a month and had passangers that were not a kid and were not widowed : {acceptance_bar_more_than_once_not_kid_not_widowed:.2%}\")"
   ]
  },
  {
   "cell_type": "code",
   "execution_count": 67,
   "metadata": {},
   "outputs": [
    {
     "name": "stdout",
     "output_type": "stream",
     "text": [
      "Answer to question 6: Acceptance rate of drivers who go to bars more than once a month and are below 30 : 72.17%\n"
     ]
    }
   ],
   "source": [
    "#Total amount of drivers who go to the Bar more than once a month and are under the age of 30\n",
    "bar_more_than_once_below_30 = bardata_all[bardata_all['Bar'].isin(['1~3', '4~8', 'gt8']) & (bardata_all['age'].isin(['21','26','below21']))]\n",
    "#Acceptance rate total amount of drivers who go to the Bar more than once a month, had passangers that were not a kid and were not widowed\n",
    "acceptance_bar_more_than_once_below_30 = bar_more_than_once_below_30['Y'].mean()\n",
    "print(f\"Answer to question 6: Acceptance rate of drivers who go to bars more than once a month and are below 30 : {acceptance_bar_more_than_once_below_30:.2%}\")"
   ]
  },
  {
   "cell_type": "markdown",
   "metadata": {},
   "source": [
    "For the next question the assumption was made that the coupon acceptance related to the cheap Restaurant and not to the Bar anymore"
   ]
  },
  {
   "cell_type": "code",
   "execution_count": 68,
   "metadata": {},
   "outputs": [
    {
     "name": "stdout",
     "output_type": "stream",
     "text": [
      "Answer to question 6: Acceptance rate of drivers who go to cheap restaurants more than 4 times a month and income is less than 50K : 71.09%\n"
     ]
    }
   ],
   "source": [
    "#Delete the rows who don't have values in the restaurant_less_than_20 column\n",
    "bardata_all = data[(data['coupon'] == 'Bar')].dropna(subset=['Bar'])\n",
    "restaurant_data_less_than_20_all = data[(data['coupon'] == 'Restaurant(<20)')].dropna(subset=['RestaurantLessThan20'])\n",
    "#Total amount of drivers who go to cheap restaurants more than 4 times a month and income is less than 50K. \n",
    "cheap_restaurant_more_than_four_income_less_50 = restaurant_data_less_than_20_all[(restaurant_data_less_than_20_all['RestaurantLessThan20'].isin(['4~8','gt8'])) &\n",
    "                                                                                  (restaurant_data_less_than_20_all['income'].isin(['$37500 - $49999','$12500 - $24999', '$25000 - $37499','Less than $12500']))]\n",
    "#Acceptance rate total amount of drivers who go to cheap restaurants more than 4 times a month and income is less than 50K. \n",
    "acceptance_cheap_restaurant_more_than_four_income_less_50 = cheap_restaurant_more_than_four_income_less_50['Y'].mean()\n",
    "print(f\"Answer to question 6: Acceptance rate of drivers who go to cheap restaurants more than 4 times a month and income is less than 50K : {acceptance_cheap_restaurant_more_than_four_income_less_50:.2%}\")"
   ]
  },
  {
   "cell_type": "markdown",
   "metadata": {},
   "source": [
    "7.  Based on these observations, what do you hypothesize about drivers who accepted the bar coupons?"
   ]
  },
  {
   "cell_type": "markdown",
   "metadata": {},
   "source": [
    "1. Drivers who are more likley to accept bar coupons are younger than 30 and older than 25 are very likley to accept the coupon. As soon as there are kids as a passanger the it is getting less likley that they accept the coupon. How more the drivers go in the Bar the higher is the chance that they accept the coupon\n",
    "2. The data suggests that individuals with lower incomes tend to prefer inexpensive restaurants. However, since only drivers with low incomes were evaluated, it is also plausible that drivers in general prefer cheaper restaurants, not exclusively those with lower incomes"
   ]
  },
  {
   "cell_type": "code",
   "execution_count": null,
   "metadata": {},
   "outputs": [],
   "source": []
  },
  {
   "cell_type": "markdown",
   "metadata": {},
   "source": [
    "### Independent Investigation\n",
    "\n",
    "Using the bar coupon example as motivation, you are to explore one of the other coupon groups and try to determine the characteristics of passengers who accept the coupons.  "
   ]
  },
  {
   "cell_type": "code",
   "execution_count": 69,
   "metadata": {},
   "outputs": [
    {
     "name": "stdout",
     "output_type": "stream",
     "text": [
      "Unique value Coupon: ['Restaurant(<20)' 'Coffee House' 'Carry out & Take away' 'Bar'\n",
      " 'Restaurant(20-50)']\n"
     ]
    }
   ],
   "source": [
    "unique_values_coupon = data['coupon'].unique()\n",
    "print(f\"Unique value Coupon: {unique_values_coupon}\")"
   ]
  },
  {
   "cell_type": "markdown",
   "metadata": {},
   "source": [
    "Since I love coffe I am exploring the Coffee House coupon data"
   ]
  },
  {
   "cell_type": "code",
   "execution_count": 70,
   "metadata": {},
   "outputs": [],
   "source": [
    "#Created new Dataframe for the Coffee House coupon\n",
    "coffee_data = data[(data['coupon'] == 'Coffee House')].dropna(subset=['CoffeeHouse'])"
   ]
  },
  {
   "cell_type": "markdown",
   "metadata": {},
   "source": [
    "1. I want to figure out of the acceptance rate of a coffe coupon is higher within females or males"
   ]
  },
  {
   "cell_type": "code",
   "execution_count": 71,
   "metadata": {},
   "outputs": [
    {
     "name": "stdout",
     "output_type": "stream",
     "text": [
      "Unique value gender: ['Female' 'Male']\n",
      "Unique value Coffee House: ['never' 'less1' '4~8' '1~3' 'gt8' nan]\n"
     ]
    }
   ],
   "source": [
    "unique_values_gender = data['gender'].unique()\n",
    "print(f\"Unique value gender: {unique_values_gender}\")\n",
    "unique_values_coffe_house = data['CoffeeHouse'].unique()\n",
    "print(f\"Unique value Coffee House: {unique_values_coffe_house}\")"
   ]
  },
  {
   "cell_type": "code",
   "execution_count": 72,
   "metadata": {},
   "outputs": [
    {
     "name": "stdout",
     "output_type": "stream",
     "text": [
      "Answer to question 1: Acceptance rate of female drivers: 67.26%\n",
      "Answer to question 1: Acceptance rate of male drivers: 64.64%\n"
     ]
    }
   ],
   "source": [
    "#Total amount of drivers who go to the Coffee House more than once a month and are female\n",
    "coffee_female = coffee_data[(coffee_data['CoffeeHouse'].isin(['4~8' ,'1~3', 'gt8'])) & (coffee_data['gender'] == 'Female')]\n",
    "#Total amount of drivers who go to the Coffee House more than once a month and are male\n",
    "coffee_male = coffee_data[(coffee_data['CoffeeHouse'].isin(['4~8' ,'1~3', 'gt8'])) & (coffee_data['gender'] == 'Male')]\n",
    "#Acceptance rate of drivers who go to the Coffee House more than once a month and are female\n",
    "accepted_coffee_female = coffee_female['Y'].mean()\n",
    "print(f\"Answer to question 1: Acceptance rate of female drivers: {accepted_coffee_female:.2%}\")\n",
    "#Acceptance rate of drivers who go to the Coffee House more than once a month and are male\n",
    "accepted_coffee_male = coffee_male['Y'].mean()\n",
    "print(f\"Answer to question 1: Acceptance rate of male drivers: {accepted_coffee_male:.2%}\")"
   ]
  },
  {
   "cell_type": "markdown",
   "metadata": {},
   "source": [
    "Analysis first question. There is not a significant difference between female and male drivers to accept the Coffee House Coupon"
   ]
  },
  {
   "cell_type": "markdown",
   "metadata": {},
   "source": [
    "2. Do wealthy drivers (more than 50k annual income) who go more than once per month to the Coffee House accept the Coupon more often than poor drivers?"
   ]
  },
  {
   "cell_type": "code",
   "execution_count": 73,
   "metadata": {},
   "outputs": [
    {
     "name": "stdout",
     "output_type": "stream",
     "text": [
      "Answer to question 2: Acceptance rate of wealthy drivers who go more than once per month to the Coffee House: 61.76%\n",
      "Answer to question 2: Acceptance rate of poor drivers who go more than once per month to the Coffee House: 69.76%\n"
     ]
    }
   ],
   "source": [
    "#Total amount of drivers who go more than once a month to the Coffee House and have an income of 50k or above\n",
    "coffee_more_than_50k = coffee_data[(coffee_data['CoffeeHouse'].isin(['4~8' ,'1~3', 'gt8'])) & (coffee_data['income'].isin(['$62500 - $74999', '$75000 - $87499', '$50000 - $62499', '$100000 or More' , '$87500 - $99999']))]\n",
    "#Total amount of drivers who go more than once a month to the Coffee House and have an income below 50k \n",
    "coffee_less_than_50k = coffee_data[(coffee_data['CoffeeHouse'].isin(['4~8' ,'1~3', 'gt8'])) & ~(coffee_data['income'].isin(['$62500 - $74999', '$75000 - $87499', '$50000 - $62499', '$100000 or More' , '$87500 - $99999']))]\n",
    "#Acceptance rate of drivers who go more than once a month to the Coffee House and have an income of 50k or above\n",
    "accepted_coffee_more_than_50k = coffee_more_than_50k['Y'].mean()\n",
    "print(f\"Answer to question 2: Acceptance rate of wealthy drivers who go more than once per month to the Coffee House: {accepted_coffee_more_than_50k:.2%}\")\n",
    "#Acceptance rate of drivers who go more than once a month to the Coffee House and have an income below 50k \n",
    "accepted_coffee_less_than_50k = coffee_less_than_50k['Y'].mean()\n",
    "print(f\"Answer to question 2: Acceptance rate of poor drivers who go more than once per month to the Coffee House: {accepted_coffee_less_than_50k:.2%}\")"
   ]
  },
  {
   "cell_type": "markdown",
   "metadata": {},
   "source": [
    "Analysis second questions. Drivers who have less income are more likley to accept the coupon but not significantly"
   ]
  },
  {
   "cell_type": "markdown",
   "metadata": {},
   "source": [
    "3. Does the sun has an impact on a female or male driver?"
   ]
  },
  {
   "cell_type": "code",
   "execution_count": 74,
   "metadata": {},
   "outputs": [
    {
     "name": "stdout",
     "output_type": "stream",
     "text": [
      "Unique value weather: ['Sunny' 'Rainy' 'Snowy']\n"
     ]
    }
   ],
   "source": [
    "unique_values_weather = data['weather'].unique()\n",
    "print(f\"Unique value weather: {unique_values_weather}\")"
   ]
  },
  {
   "cell_type": "code",
   "execution_count": 75,
   "metadata": {},
   "outputs": [
    {
     "name": "stdout",
     "output_type": "stream",
     "text": [
      "Answer to question 1: Acceptance rate of female drivers when it is sunny: 69.00%\n",
      "Answer to question 1: Acceptance rate of male drivers when it is sunny: 65.70%\n"
     ]
    }
   ],
   "source": [
    "#Total amount of drivers who go to the Coffee House more than once a month and are female when it is sunny\n",
    "coffee_female_sunny = coffee_data[(coffee_data['CoffeeHouse'].isin(['4~8' ,'1~3', 'gt8'])) & (coffee_data['gender'] == 'Female') & (coffee_data['weather'] == 'Sunny')]\n",
    "#Total amount of drivers who go to the Coffee House more than once a month and are male when it is sunny\n",
    "coffee_male_sunny = coffee_data[(coffee_data['CoffeeHouse'].isin(['4~8' ,'1~3', 'gt8'])) & (coffee_data['gender'] == 'Male') & (coffee_data['weather'] == 'Sunny')]\n",
    "#Acceptance rate of drivers who go to the Coffee House more than once a month and are female when it is sunny\n",
    "accepted_coffee_female_sunny = coffee_female_sunny['Y'].mean()\n",
    "print(f\"Answer to question 1: Acceptance rate of female drivers when it is sunny: {accepted_coffee_female_sunny:.2%}\")\n",
    "#Acceptance rate of drivers who go to the Coffee House more than once a month and are male when it is sunny\n",
    "accepted_coffee_male_sunny = coffee_male_sunny['Y'].mean()\n",
    "print(f\"Answer to question 1: Acceptance rate of male drivers when it is sunny: {accepted_coffee_male_sunny:.2%}\")"
   ]
  },
  {
   "cell_type": "markdown",
   "metadata": {},
   "source": [
    "Analysis question 3: When the sun comes out the acceptence rate goes up for both slightly"
   ]
  },
  {
   "cell_type": "markdown",
   "metadata": {},
   "source": [
    "4. That leads to the question. Is the rate going down when it is Rainy or Snowy?"
   ]
  },
  {
   "cell_type": "code",
   "execution_count": 76,
   "metadata": {},
   "outputs": [
    {
     "name": "stdout",
     "output_type": "stream",
     "text": [
      "Answer to question 4: Acceptance rate of female drivers when it is snowy: 49.33%\n",
      "Answer to question 4: Acceptance rate of male drivers when it is snowy: 57.53%\n"
     ]
    }
   ],
   "source": [
    "#Total amount of drivers who go to the Coffee House more than once a month and are female when it is snowy\n",
    "coffee_female_snowy = coffee_data[(coffee_data['CoffeeHouse'].isin(['4~8' ,'1~3', 'gt8'])) & (coffee_data['gender'] == 'Female') & (coffee_data['weather'] == 'Snowy')]\n",
    "#Total amount of drivers who go to the Coffee House more than once a month and are male when it is snowy\n",
    "coffee_male_snowy = coffee_data[(coffee_data['CoffeeHouse'].isin(['4~8' ,'1~3', 'gt8'])) & (coffee_data['gender'] == 'Male') & (coffee_data['weather'] == 'Snowy')]\n",
    "#Acceptance rate of drivers who go to the Coffee House more than once a month and are female when it is snowy\n",
    "accepted_coffee_female_snowy = coffee_female_snowy['Y'].mean()\n",
    "print(f\"Answer to question 4: Acceptance rate of female drivers when it is snowy: {accepted_coffee_female_snowy:.2%}\")\n",
    "#Acceptance rate of drivers who go to the Coffee House more than once a month and are male when it is snowy\n",
    "accepted_coffee_male_snowy = coffee_male_snowy['Y'].mean()\n",
    "print(f\"Answer to question 4: Acceptance rate of male drivers when it is snowy: {accepted_coffee_male_snowy:.2%}\")"
   ]
  },
  {
   "cell_type": "code",
   "execution_count": 77,
   "metadata": {},
   "outputs": [
    {
     "name": "stdout",
     "output_type": "stream",
     "text": [
      "Answer to question 4: Acceptance rate of female drivers when it is Rainy: 63.79%\n",
      "Answer to question 4: Acceptance rate of male drivers when it is Rainy: 57.14%\n"
     ]
    }
   ],
   "source": [
    "#Total amount of drivers who go to the Coffee House more than once a month and are female when it is Rainy\n",
    "coffee_female_Rainy = coffee_data[(coffee_data['CoffeeHouse'].isin(['4~8' ,'1~3', 'gt8'])) & (coffee_data['gender'] == 'Female') & (coffee_data['weather'] == 'Rainy')]\n",
    "#Total amount of drivers who go to the Coffee House more than once a month and are male when it is Rainy\n",
    "coffee_male_Rainy = coffee_data[(coffee_data['CoffeeHouse'].isin(['4~8' ,'1~3', 'gt8'])) & (coffee_data['gender'] == 'Male') & (coffee_data['weather'] == 'Rainy')]\n",
    "#Acceptance rate of drivers who go to the Coffee House more than once a month and are female when it is Rainy\n",
    "accepted_coffee_female_Rainy = coffee_female_Rainy['Y'].mean()\n",
    "print(f\"Answer to question 4: Acceptance rate of female drivers when it is Rainy: {accepted_coffee_female_Rainy:.2%}\")\n",
    "#Acceptance rate of drivers who go to the Coffee House more than once a month and are male when it is Rainy\n",
    "accepted_coffee_male_Rainy = coffee_male_Rainy['Y'].mean()\n",
    "print(f\"Answer to question 4: Acceptance rate of male drivers when it is Rainy: {accepted_coffee_male_Rainy:.2%}\")"
   ]
  },
  {
   "cell_type": "markdown",
   "metadata": {},
   "source": [
    "Analysis to question 4. Females accept the coupon less when it is snowing but don't care much if it is raining or sunny. For male both time the acceptance rate is dropping by around 10% if it is not sunny"
   ]
  },
  {
   "cell_type": "code",
   "execution_count": 78,
   "metadata": {},
   "outputs": [],
   "source": [
    "combined_weather_data = pd.concat([coffee_male_snowy, coffee_female_snowy, coffee_male_sunny, coffee_female_sunny, coffee_male_Rainy, coffee_female_Rainy], ignore_index=True)"
   ]
  },
  {
   "cell_type": "code",
   "execution_count": 79,
   "metadata": {},
   "outputs": [
    {
     "data": {
      "text/plain": [
       "<matplotlib.legend.Legend at 0x10cecd400>"
      ]
     },
     "execution_count": 79,
     "metadata": {},
     "output_type": "execute_result"
    },
    {
     "data": {
      "image/png": "[encoded data removed]",
      "text/plain": [
       "<Figure size 1200x600 with 1 Axes>"
      ]
     },
     "metadata": {},
     "output_type": "display_data"
    }
   ],
   "source": [
    "sns.set(style=\"whitegrid\")\n",
    "plt.figure(figsize=(12, 6))\n",
    "sns.barplot(x='gender', y='Y', hue='weather', data=combined_weather_data, palette='coolwarm')\n",
    "\n",
    "plt.title('Acceptance Rate of Drivers who go to the Coffee House more than once a month')\n",
    "plt.ylabel('Acceptance Rate')\n",
    "plt.ylim(0, 1)\n",
    "plt.legend(title='Weather')"
   ]
  },
  {
   "cell_type": "code",
   "execution_count": 80,
   "metadata": {},
   "outputs": [
    {
     "name": "stdout",
     "output_type": "stream",
     "text": [
      "<class 'pandas.core.frame.DataFrame'>\n",
      "Index: 3924 entries, 1 to 12681\n",
      "Data columns (total 25 columns):\n",
      " #   Column                Non-Null Count  Dtype \n",
      "---  ------                --------------  ----- \n",
      " 0   destination           3924 non-null   object\n",
      " 1   passanger             3924 non-null   object\n",
      " 2   weather               3924 non-null   object\n",
      " 3   temperature           3924 non-null   int64 \n",
      " 4   time                  3924 non-null   object\n",
      " 5   coupon                3924 non-null   object\n",
      " 6   expiration            3924 non-null   object\n",
      " 7   gender                3924 non-null   object\n",
      " 8   age                   3924 non-null   object\n",
      " 9   maritalStatus         3924 non-null   object\n",
      " 10  has_children          3924 non-null   int64 \n",
      " 11  education             3924 non-null   object\n",
      " 12  occupation            3924 non-null   object\n",
      " 13  income                3924 non-null   object\n",
      " 14  Bar                   3908 non-null   object\n",
      " 15  CoffeeHouse           3924 non-null   object\n",
      " 16  CarryAway             3888 non-null   object\n",
      " 17  RestaurantLessThan20  3895 non-null   object\n",
      " 18  Restaurant20To50      3897 non-null   object\n",
      " 19  toCoupon_GEQ5min      3924 non-null   int64 \n",
      " 20  toCoupon_GEQ15min     3924 non-null   int64 \n",
      " 21  toCoupon_GEQ25min     3924 non-null   int64 \n",
      " 22  direction_same        3924 non-null   int64 \n",
      " 23  direction_opp         3924 non-null   int64 \n",
      " 24  Y                     3924 non-null   int64 \n",
      "dtypes: int64(8), object(17)\n",
      "memory usage: 797.1+ KB\n"
     ]
    }
   ],
   "source": [
    "coffee_data.info()"
   ]
  },
  {
   "cell_type": "code",
   "execution_count": 81,
   "metadata": {},
   "outputs": [
    {
     "name": "stdout",
     "output_type": "stream",
     "text": [
      "Unique values in column 'destination':\n",
      "['No Urgent Place' 'Home' 'Work']\n",
      "\n",
      "Unique values in column 'passanger':\n",
      "['Friend(s)' 'Kid(s)' 'Alone' 'Partner']\n",
      "\n",
      "Unique values in column 'weather':\n",
      "['Sunny' 'Rainy' 'Snowy']\n",
      "\n",
      "Unique values in column 'temperature':\n",
      "[80 55 30]\n",
      "\n",
      "Unique values in column 'time':\n",
      "['10AM' '2PM' '6PM' '7AM' '10PM']\n",
      "\n",
      "Unique values in column 'coupon':\n",
      "['Coffee House']\n",
      "\n",
      "Unique values in column 'expiration':\n",
      "['2h' '1d']\n",
      "\n",
      "Unique values in column 'gender':\n",
      "['Female' 'Male']\n",
      "\n",
      "Unique values in column 'age':\n",
      "['21' '46' '26' '31' '41' '50plus' '36' 'below21']\n",
      "\n",
      "Unique values in column 'maritalStatus':\n",
      "['Unmarried partner' 'Single' 'Married partner' 'Divorced' 'Widowed']\n",
      "\n",
      "Unique values in column 'has_children':\n",
      "[1 0]\n",
      "\n",
      "Unique values in column 'education':\n",
      "['Some college - no degree' 'Bachelors degree' 'Associates degree'\n",
      " 'High School Graduate' 'Graduate degree (Masters or Doctorate)'\n",
      " 'Some High School']\n",
      "\n",
      "Unique values in column 'occupation':\n",
      "['Unemployed' 'Architecture & Engineering' 'Student'\n",
      " 'Education&Training&Library' 'Healthcare Support'\n",
      " 'Healthcare Practitioners & Technical' 'Sales & Related' 'Management'\n",
      " 'Arts Design Entertainment Sports & Media' 'Computer & Mathematical'\n",
      " 'Life Physical Social Science' 'Personal Care & Service'\n",
      " 'Office & Administrative Support' 'Construction & Extraction' 'Legal'\n",
      " 'Retired' 'Community & Social Services'\n",
      " 'Installation Maintenance & Repair' 'Transportation & Material Moving'\n",
      " 'Business & Financial' 'Protective Service'\n",
      " 'Food Preparation & Serving Related' 'Production Occupations'\n",
      " 'Building & Grounds Cleaning & Maintenance' 'Farming Fishing & Forestry']\n",
      "\n",
      "Unique values in column 'income':\n",
      "['$37500 - $49999' '$62500 - $74999' '$12500 - $24999' '$75000 - $87499'\n",
      " '$50000 - $62499' '$25000 - $37499' '$100000 or More' '$87500 - $99999'\n",
      " 'Less than $12500']\n",
      "\n",
      "Unique values in column 'Bar':\n",
      "['never' 'less1' '1~3' 'gt8' '4~8' nan]\n",
      "\n",
      "Unique values in column 'CoffeeHouse':\n",
      "['never' 'less1' '4~8' '1~3' 'gt8']\n",
      "\n",
      "Unique values in column 'CarryAway':\n",
      "[nan '4~8' '1~3' 'gt8' 'less1' 'never']\n",
      "\n",
      "Unique values in column 'RestaurantLessThan20':\n",
      "['4~8' '1~3' 'less1' 'gt8' nan 'never']\n",
      "\n",
      "Unique values in column 'Restaurant20To50':\n",
      "['1~3' 'less1' 'never' 'gt8' '4~8' nan]\n",
      "\n",
      "Unique values in column 'toCoupon_GEQ5min':\n",
      "[1]\n",
      "\n",
      "Unique values in column 'toCoupon_GEQ15min':\n",
      "[0 1]\n",
      "\n",
      "Unique values in column 'toCoupon_GEQ25min':\n",
      "[0 1]\n",
      "\n",
      "Unique values in column 'direction_same':\n",
      "[0 1]\n",
      "\n",
      "Unique values in column 'direction_opp':\n",
      "[1 0]\n",
      "\n",
      "Unique values in column 'Y':\n",
      "[0 1]\n",
      "\n"
     ]
    }
   ],
   "source": [
    "#Investigate the unique value for each of the columns to find interesting values to analyze \n",
    "for col in coffee_data.columns:\n",
    "    unique_values = coffee_data[col].unique()\n",
    "    print(f\"Unique values in column '{col}':\")\n",
    "    print(unique_values)\n",
    "    print()"
   ]
  },
  {
   "cell_type": "markdown",
   "metadata": {},
   "source": [
    "5. At what time do drivers in the morning who frequent the coffee house regularly (more than 8 times a month) and have accepted the coupon typically visit and which education do they have?"
   ]
  },
  {
   "cell_type": "code",
   "execution_count": 82,
   "metadata": {},
   "outputs": [],
   "source": [
    "#Dataframe for plot analysis. Everyone who goes more than 8 times per month to the Coffee House and accepts the Coupon\n",
    "coffee_time_gt8 = coffee_data[(coffee_data['CoffeeHouse'] == 'gt8') & (coffee_data['Y'] == 1) & (coffee_data['time'].isin(['10AM','7AM']))]"
   ]
  },
  {
   "cell_type": "code",
   "execution_count": 83,
   "metadata": {},
   "outputs": [
    {
     "data": {
      "image/png": "[encoded data removed]",
      "text/plain": [
       "<Figure size 1400x800 with 1 Axes>"
      ]
     },
     "metadata": {},
     "output_type": "display_data"
    }
   ],
   "source": [
    "plt.figure(figsize=(14, 8))\n",
    "sns.barplot(x='education', y='time', hue='gender', data=coffee_time_gt8, palette='coolwarm')\n",
    "plt.title('Time of the visits to Coffee House for Drivers who go more than gt8 and accepted the coupon')\n",
    "plt.xlabel('Index (or count)')\n",
    "plt.ylabel('Time of Visit')\n",
    "plt.xticks(rotation=45)\n",
    "plt.grid(True)"
   ]
  },
  {
   "cell_type": "markdown",
   "metadata": {},
   "source": [
    "Answer question 5: Females who are in the college and still study go earlier to the Coffe House than females who have a Bachelor or Graduate degree. Does with a High School degree can't be used for an analysis since there is only one value.\n",
    "Males with a Bachelor or Graduate degree go a bit more early than males without"
   ]
  },
  {
   "cell_type": "code",
   "execution_count": null,
   "metadata": {},
   "outputs": [],
   "source": []
  }
 ],
 "metadata": {
  "kernelspec": {
   "display_name": "Python 3",
   "language": "python",
   "name": "python3"
  },
  "language_info": {
   "codemirror_mode": {
    "name": "ipython",
    "version": 3
   },
   "file_extension": ".py",
   "mimetype": "text/x-python",
   "name": "python",
   "nbconvert_exporter": "python",
   "pygments_lexer": "ipython3",
   "version": "3.9.6"
  },
  "widgets": {
   "application/vnd.jupyter.widget-state+json": {
    "state": {},
    "version_major": 2,
    "version_minor": 0
   }
  }
 },
 "nbformat": 4,
 "nbformat_minor": 4
}
